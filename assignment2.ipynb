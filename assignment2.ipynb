{
 "cells": [
  {
   "cell_type": "markdown",
   "metadata": {},
   "source": [
    "## Assignment 2"
   ]
  },
  {
   "cell_type": "code",
   "execution_count": 4,
   "metadata": {},
   "outputs": [],
   "source": [
    "# Import Packages\n",
    "import pandas as pd\n",
    "from cassandra.cluster import Cluster"
   ]
  },
  {
   "cell_type": "code",
   "execution_count": 5,
   "metadata": {},
   "outputs": [],
   "source": [
    "# Creating connection to Cassendra Cluster\n",
    "clstr = Cluster()\n",
    "session = clstr.connect()"
   ]
  },
  {
   "cell_type": "code",
   "execution_count": 6,
   "metadata": {},
   "outputs": [
    {
     "data": {
      "text/plain": [
       "<cassandra.cluster.ResultSet at 0x7fc68ac0c310>"
      ]
     },
     "execution_count": 6,
     "metadata": {},
     "output_type": "execute_result"
    }
   ],
   "source": [
    "# Check for keyspace and drop if it exists\n",
    "session.execute(\"DROP KEYSPACE IF EXISTS m14\")"
   ]
  },
  {
   "cell_type": "code",
   "execution_count": 7,
   "metadata": {},
   "outputs": [
    {
     "name": "stdout",
     "output_type": "stream",
     "text": [
      "system\n",
      "system_auth\n",
      "system_distributed\n",
      "system_schema\n",
      "system_traces\n",
      "system_views\n",
      "system_virtual_schema\n",
      "w04python\n"
     ]
    }
   ],
   "source": [
    "# View Keyspaces\n",
    "rows = session.execute(\"desc keyspaces\")\n",
    "for row in rows:\n",
    "    print(f\"{row[0]}\")"
   ]
  },
  {
   "cell_type": "code",
   "execution_count": 8,
   "metadata": {},
   "outputs": [
    {
     "data": {
      "text/plain": [
       "<cassandra.cluster.ResultSet at 0x7fc68ad60210>"
      ]
     },
     "execution_count": 8,
     "metadata": {},
     "output_type": "execute_result"
    }
   ],
   "source": [
    "# Create Keyspace m14\n",
    "session.execute(\"CREATE KEYSPACE IF NOT EXISTS m14 WITH REPLICATION = {'class':'SimpleStrategy', 'replication_factor':2}\")"
   ]
  },
  {
   "cell_type": "code",
   "execution_count": 9,
   "metadata": {},
   "outputs": [
    {
     "name": "stdout",
     "output_type": "stream",
     "text": [
      "m14\n",
      "system\n",
      "system_auth\n",
      "system_distributed\n",
      "system_schema\n",
      "system_traces\n",
      "system_views\n",
      "system_virtual_schema\n",
      "w04python\n"
     ]
    }
   ],
   "source": [
    "# View keyspaces\n",
    "rows = session.execute(\"desc keyspaces\")\n",
    "for row in rows:\n",
    "    print(f\"{row[0]}\")"
   ]
  },
  {
   "cell_type": "code",
   "execution_count": 10,
   "metadata": {},
   "outputs": [
    {
     "data": {
      "text/plain": [
       "<cassandra.cluster.ResultSet at 0x7fc68ac0ad50>"
      ]
     },
     "execution_count": 10,
     "metadata": {},
     "output_type": "execute_result"
    }
   ],
   "source": [
    "# Create table\n",
    "session.execute(\"\"\"\n",
    "CREATE TABLE IF NOT EXISTS m14.inventory ( \n",
    "    sku VARCHAR, \n",
    "    name TEXT, \n",
    "    description TEXT, \n",
    "    warehouse_num INT, \n",
    "    PRIMARY KEY(sku)\n",
    ");\n",
    "\"\"\")"
   ]
  },
  {
   "cell_type": "code",
   "execution_count": 11,
   "metadata": {},
   "outputs": [
    {
     "data": {
      "text/html": [
       "<div>\n",
       "<style scoped>\n",
       "    .dataframe tbody tr th:only-of-type {\n",
       "        vertical-align: middle;\n",
       "    }\n",
       "\n",
       "    .dataframe tbody tr th {\n",
       "        vertical-align: top;\n",
       "    }\n",
       "\n",
       "    .dataframe thead th {\n",
       "        text-align: right;\n",
       "    }\n",
       "</style>\n",
       "<table border=\"1\" class=\"dataframe\">\n",
       "  <thead>\n",
       "    <tr style=\"text-align: right;\">\n",
       "      <th></th>\n",
       "      <th>sku</th>\n",
       "      <th>name</th>\n",
       "      <th>description</th>\n",
       "      <th>warehouse_num</th>\n",
       "    </tr>\n",
       "  </thead>\n",
       "  <tbody>\n",
       "    <tr>\n",
       "      <th>0</th>\n",
       "      <td>'AAA-1'</td>\n",
       "      <td>'Laptop'</td>\n",
       "      <td>'Portable computer for work and entertainment.'</td>\n",
       "      <td>1</td>\n",
       "    </tr>\n",
       "    <tr>\n",
       "      <th>1</th>\n",
       "      <td>'AAA-2'</td>\n",
       "      <td>'Guitar'</td>\n",
       "      <td>'Musical instrument for playing melodies and c...</td>\n",
       "      <td>3</td>\n",
       "    </tr>\n",
       "    <tr>\n",
       "      <th>2</th>\n",
       "      <td>'AAA-3'</td>\n",
       "      <td>'Clock'</td>\n",
       "      <td>'Timekeeping device for tracking hours and min...</td>\n",
       "      <td>1</td>\n",
       "    </tr>\n",
       "    <tr>\n",
       "      <th>3</th>\n",
       "      <td>'BBB-1'</td>\n",
       "      <td>'Bag'</td>\n",
       "      <td>'Carries and stores personal items and belongi...</td>\n",
       "      <td>2</td>\n",
       "    </tr>\n",
       "    <tr>\n",
       "      <th>4</th>\n",
       "      <td>'BBB-2'</td>\n",
       "      <td>'Pen'</td>\n",
       "      <td>'Writing instrument for ink-based writing.'</td>\n",
       "      <td>3</td>\n",
       "    </tr>\n",
       "    <tr>\n",
       "      <th>5</th>\n",
       "      <td>'BBB-3'</td>\n",
       "      <td>'Bottle'</td>\n",
       "      <td>'Container for holding liquids or beverages.'</td>\n",
       "      <td>3</td>\n",
       "    </tr>\n",
       "    <tr>\n",
       "      <th>6</th>\n",
       "      <td>'CCC-1'</td>\n",
       "      <td>'Book'</td>\n",
       "      <td>'Printed content for reading and information.'</td>\n",
       "      <td>1</td>\n",
       "    </tr>\n",
       "    <tr>\n",
       "      <th>7</th>\n",
       "      <td>'CCC-2'</td>\n",
       "      <td>'Chair'</td>\n",
       "      <td>'Seating furniture for comfort and support.'</td>\n",
       "      <td>2</td>\n",
       "    </tr>\n",
       "  </tbody>\n",
       "</table>\n",
       "</div>"
      ],
      "text/plain": [
       "       sku      name                                        description  \\\n",
       "0  'AAA-1'  'Laptop'    'Portable computer for work and entertainment.'   \n",
       "1  'AAA-2'  'Guitar'  'Musical instrument for playing melodies and c...   \n",
       "2  'AAA-3'   'Clock'  'Timekeeping device for tracking hours and min...   \n",
       "3  'BBB-1'     'Bag'  'Carries and stores personal items and belongi...   \n",
       "4  'BBB-2'     'Pen'        'Writing instrument for ink-based writing.'   \n",
       "5  'BBB-3'  'Bottle'      'Container for holding liquids or beverages.'   \n",
       "6  'CCC-1'    'Book'     'Printed content for reading and information.'   \n",
       "7  'CCC-2'   'Chair'       'Seating furniture for comfort and support.'   \n",
       "\n",
       "   warehouse_num  \n",
       "0              1  \n",
       "1              3  \n",
       "2              1  \n",
       "3              2  \n",
       "4              3  \n",
       "5              3  \n",
       "6              1  \n",
       "7              2  "
      ]
     },
     "execution_count": 11,
     "metadata": {},
     "output_type": "execute_result"
    }
   ],
   "source": [
    "### Load Data\n",
    "df = pd.read_csv('data.csv')\n",
    "df"
   ]
  },
  {
   "cell_type": "code",
   "execution_count": 12,
   "metadata": {},
   "outputs": [
    {
     "name": "stdout",
     "output_type": "stream",
     "text": [
      "SKU = 'AAA-1', name =0, description = 'Portable computer for work and entertainment.', warehouse_num = 1\n",
      "SKU = 'AAA-2', name =1, description = 'Musical instrument for playing melodies and chords.', warehouse_num = 3\n",
      "SKU = 'AAA-3', name =2, description = 'Timekeeping device for tracking hours and minutes.', warehouse_num = 1\n",
      "SKU = 'BBB-1', name =3, description = 'Carries and stores personal items and belongings.', warehouse_num = 2\n",
      "SKU = 'BBB-2', name =4, description = 'Writing instrument for ink-based writing.', warehouse_num = 3\n",
      "SKU = 'BBB-3', name =5, description = 'Container for holding liquids or beverages.', warehouse_num = 3\n",
      "SKU = 'CCC-1', name =6, description = 'Printed content for reading and information.', warehouse_num = 1\n",
      "SKU = 'CCC-2', name =7, description = 'Seating furniture for comfort and support.', warehouse_num = 2\n"
     ]
    }
   ],
   "source": [
    "# Iterate throught the dataframe and print it.\n",
    "for index, row in df.iterrows():\n",
    "    print(f\"SKU = {row.sku}, name ={row.name}, description = {row.description}, warehouse_num = {row.warehouse_num}\")"
   ]
  },
  {
   "cell_type": "code",
   "execution_count": 13,
   "metadata": {},
   "outputs": [
    {
     "name": "stdout",
     "output_type": "stream",
     "text": [
      "\n",
      "        INSERT INTO m14.inventory (sku, name, description, warehouse_num)     \n",
      "        VALUES ('AAA-1', 'Laptop', 'Portable computer for work and entertainment.', 1);\n",
      "        \n",
      "\n",
      "        INSERT INTO m14.inventory (sku, name, description, warehouse_num)     \n",
      "        VALUES ('AAA-2', 'Guitar', 'Musical instrument for playing melodies and chords.', 3);\n",
      "        \n",
      "\n",
      "        INSERT INTO m14.inventory (sku, name, description, warehouse_num)     \n",
      "        VALUES ('AAA-3', 'Clock', 'Timekeeping device for tracking hours and minutes.', 1);\n",
      "        \n",
      "\n",
      "        INSERT INTO m14.inventory (sku, name, description, warehouse_num)     \n",
      "        VALUES ('BBB-1', 'Bag', 'Carries and stores personal items and belongings.', 2);\n",
      "        \n",
      "\n",
      "        INSERT INTO m14.inventory (sku, name, description, warehouse_num)     \n",
      "        VALUES ('BBB-2', 'Pen', 'Writing instrument for ink-based writing.', 3);\n",
      "        \n",
      "\n",
      "        INSERT INTO m14.inventory (sku, name, description, warehouse_num)     \n",
      "        VALUES ('BBB-3', 'Bottle', 'Container for holding liquids or beverages.', 3);\n",
      "        \n",
      "\n",
      "        INSERT INTO m14.inventory (sku, name, description, warehouse_num)     \n",
      "        VALUES ('CCC-1', 'Book', 'Printed content for reading and information.', 1);\n",
      "        \n",
      "\n",
      "        INSERT INTO m14.inventory (sku, name, description, warehouse_num)     \n",
      "        VALUES ('CCC-2', 'Chair', 'Seating furniture for comfort and support.', 2);\n",
      "        \n"
     ]
    }
   ],
   "source": [
    "# Print the values that are being inserted into the table\n",
    "for index, row in df.iterrows():\n",
    "    print(f\"\"\"\n",
    "        INSERT INTO m14.inventory (sku, name, description, warehouse_num)     \n",
    "        VALUES ({row[0]}, {row[1]}, {row[2]}, {row[3]});\n",
    "        \"\"\"\n",
    "       )\n",
    "# Insert the data into the table\n",
    "    session.execute(f\"\"\"\n",
    "        INSERT INTO m14.inventory (sku, name, description, warehouse_num)     \n",
    "        VALUES ({row[0]}, {row[1]}, {row[2]}, {row[3]});\n",
    "        \"\"\"\n",
    "       )"
   ]
  },
  {
   "cell_type": "code",
   "execution_count": 14,
   "metadata": {},
   "outputs": [
    {
     "name": "stdout",
     "output_type": "stream",
     "text": [
      "SKU=AAA-2, name=Guitar, description=Musical instrument for playing melodies and chords., warehouse_num=3\n",
      "SKU=AAA-3, name=Clock, description=Timekeeping device for tracking hours and minutes., warehouse_num=1\n",
      "SKU=CCC-2, name=Chair, description=Seating furniture for comfort and support., warehouse_num=2\n",
      "SKU=BBB-2, name=Pen, description=Writing instrument for ink-based writing., warehouse_num=3\n",
      "SKU=BBB-1, name=Bag, description=Carries and stores personal items and belongings., warehouse_num=2\n",
      "SKU=CCC-1, name=Book, description=Printed content for reading and information., warehouse_num=1\n",
      "SKU=BBB-3, name=Bottle, description=Container for holding liquids or beverages., warehouse_num=3\n",
      "SKU=AAA-1, name=Laptop, description=Portable computer for work and entertainment., warehouse_num=1\n"
     ]
    }
   ],
   "source": [
    "#Retrieving and Printing Inventory Data from a Database\n",
    "rows = session.execute(\"select (sku, name, description, warehouse_num) from m14.inventory\")\n",
    "for row in rows:\n",
    "    print(f\"SKU={row[0][0]}, name={row[0][1]}, description={row[0][2]}, warehouse_num={row[0][3]}\")"
   ]
  },
  {
   "cell_type": "code",
   "execution_count": 15,
   "metadata": {},
   "outputs": [
    {
     "data": {
      "text/plain": [
       "<cassandra.cluster.ResultSet at 0x7fc68ae226d0>"
      ]
     },
     "execution_count": 15,
     "metadata": {},
     "output_type": "execute_result"
    }
   ],
   "source": [
    "# Create Index on warehouse_num\n",
    "session.execute(\"\"\"CREATE INDEX IF NOT EXISTS warehouse_num ON m14.inventory(warehouse_num);\"\"\")"
   ]
  },
  {
   "cell_type": "code",
   "execution_count": 55,
   "metadata": {},
   "outputs": [
    {
     "name": "stdout",
     "output_type": "stream",
     "text": [
      "Clock\n",
      "Book\n",
      "Laptop\n"
     ]
    }
   ],
   "source": [
    "# Search products at a given location\n",
    "rows = session.execute(\"select name from m14.inventory where warehouse_num = 1 \")\n",
    "for row in rows:\n",
    "    print(f\"{row[0]}\")"
   ]
  },
  {
   "cell_type": "code",
   "execution_count": null,
   "metadata": {},
   "outputs": [],
   "source": []
  },
  {
   "cell_type": "code",
   "execution_count": null,
   "metadata": {},
   "outputs": [],
   "source": []
  }
 ],
 "metadata": {
  "kernelspec": {
   "display_name": "bd",
   "language": "python",
   "name": "python3"
  },
  "language_info": {
   "codemirror_mode": {
    "name": "ipython",
    "version": 3
   },
   "file_extension": ".py",
   "mimetype": "text/x-python",
   "name": "python",
   "nbconvert_exporter": "python",
   "pygments_lexer": "ipython3",
   "version": "3.11.4"
  },
  "orig_nbformat": 4
 },
 "nbformat": 4,
 "nbformat_minor": 2
}
